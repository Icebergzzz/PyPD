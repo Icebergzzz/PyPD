{
 "cells": [
  {
   "cell_type": "code",
   "execution_count": 2,
   "id": "d22a62f2",
   "metadata": {},
   "outputs": [],
   "source": [
    "import scipy.io\n",
    "import matplotlib.pyplot as plt\n",
    "import numpy as np"
   ]
  },
  {
   "cell_type": "markdown",
   "id": "f8170f9a",
   "metadata": {},
   "source": [
    "## Read input file"
   ]
  },
  {
   "cell_type": "code",
   "execution_count": 44,
   "id": "4b937c47",
   "metadata": {},
   "outputs": [],
   "source": [
    "filepath = \"/Users/mark/Documents/PhD/2 Code/2.1 PhD Code/BB_PD/input/inputdatafiles/\"\n",
    "filename = \"Beam_4_UN_DX2pt5mm.mat\"\n",
    "mat = scipy.io.loadmat(filepath + filename, squeeze_me=True)"
   ]
  },
  {
   "cell_type": "markdown",
   "id": "f5952a2a",
   "metadata": {},
   "source": [
    "### Particle coordinates"
   ]
  },
  {
   "cell_type": "code",
   "execution_count": 45,
   "id": "b8b6e120",
   "metadata": {},
   "outputs": [
    {
     "name": "stdout",
     "output_type": "stream",
     "text": [
      "(28000, 3)\n"
     ]
    },
    {
     "data": {
      "text/plain": [
       "(-0.006125, 0.183625, 0.00012499999999999968, 0.052375000000000005)"
      ]
     },
     "execution_count": 45,
     "metadata": {},
     "output_type": "execute_result"
    },
    {
     "data": {
      "image/png": "[encoded data removed]",
      "text/plain": [
       "<Figure size 864x432 with 1 Axes>"
      ]
     },
     "metadata": {
      "needs_background": "light"
     },
     "output_type": "display_data"
    }
   ],
   "source": [
    "particles = mat['undeformedCoordinates']\n",
    "print(np.shape(particles))\n",
    "\n",
    "fig = plt.figure(figsize=(12,6))\n",
    "ax = fig.add_subplot(111)\n",
    "ax.scatter(particles[:,0], particles[:,2], s=20)\n",
    "plt.axis('equal')"
   ]
  },
  {
   "cell_type": "markdown",
   "id": "50b2da62",
   "metadata": {},
   "source": [
    "### Contact model (penetrator/supports)"
   ]
  },
  {
   "cell_type": "code",
   "execution_count": 46,
   "id": "33b62730",
   "metadata": {},
   "outputs": [
    {
     "name": "stdout",
     "output_type": "stream",
     "text": [
      "[('ID', 'O'), ('centre', 'O'), ('radius', 'O'), ('searchRadius', 'O'), ('family', 'O')]\n",
      "penetrator shape: () \n",
      "\n",
      "ID: 1\n",
      "ID shape: () \n",
      "\n",
      "centre: [0.0875 0.1   ]\n",
      "centre shape: (2,) \n",
      "\n",
      "radius: 0.05\n",
      "radius shape: () \n",
      "\n",
      "search_radius: 0.07525000000000001\n",
      "search radius shape: () \n",
      "\n",
      "family: [12633 12634 12635 ... 27985 27986 27987]\n",
      "family shape: (6820,) \n",
      "\n"
     ]
    }
   ],
   "source": [
    "penetrator = mat['penetrator']  # Structured ndarray\n",
    "print(penetrator.dtype)\n",
    "print(\"penetrator shape:\", np.shape(penetrator), \"\\n\")\n",
    "\n",
    "ID = penetrator['ID'].item()\n",
    "print(\"ID:\", ID)\n",
    "print(\"ID shape:\", np.shape(ID), \"\\n\")\n",
    "\n",
    "centre = penetrator['centre'].item()\n",
    "print(\"centre:\", centre)\n",
    "print(\"centre shape:\", np.shape(centre), \"\\n\")\n",
    "\n",
    "radius = penetrator['radius'].item()\n",
    "print(\"radius:\", radius)\n",
    "print(\"radius shape:\", np.shape(radius), \"\\n\")\n",
    "\n",
    "search_radius = penetrator['searchRadius'].item()\n",
    "print(\"search_radius:\", search_radius)\n",
    "print(\"search radius shape:\", np.shape(search_radius), \"\\n\")\n",
    "\n",
    "family = penetrator['family'].item()\n",
    "print(\"family:\", family)\n",
    "print(\"family shape:\", np.shape(family), \"\\n\")\n",
    "\n",
    "# for node in family:\n",
    "#     print(node)"
   ]
  }
 ],
 "metadata": {
  "kernelspec": {
   "display_name": "Python 3 (ipykernel)",
   "language": "python",
   "name": "python3"
  },
  "language_info": {
   "codemirror_mode": {
    "name": "ipython",
    "version": 3
   },
   "file_extension": ".py",
   "mimetype": "text/x-python",
   "name": "python",
   "nbconvert_exporter": "python",
   "pygments_lexer": "ipython3",
   "version": "3.9.6"
  }
 },
 "nbformat": 4,
 "nbformat_minor": 5
}
